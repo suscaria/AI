{
 "metadata": {
  "kernelspec": {
   "display_name": "Streamlit Notebook",
   "name": "streamlit"
  },
  "lastEditStatus": {
   "notebookId": "w7qj2cjifkiglx4ytvim",
   "authorId": "857007653926",
   "authorName": "USER",
   "authorEmail": "",
   "sessionId": "ee5d65f7-947d-41fc-88e2-15c56526a7a0",
   "lastEditTime": 1747951147134
  }
 },
 "nbformat_minor": 5,
 "nbformat": 4,
 "cells": [
  {
   "cell_type": "markdown",
   "id": "abc268cb-99b6-43a2-9c6a-c1463291ee3a",
   "metadata": {
    "collapsed": false,
    "name": "Overview"
   },
   "source": "# Building Agentic AI Applications In Snowflake\n\n### *NOTE: For overview, prerequisites and other instructions, refer to this [guide](https://github.com/Snowflake-Labs/sfguide-build-data-agents-using-snowflake-cortex-ai).*\n"
  },
  {
   "cell_type": "code",
   "execution_count": null,
   "id": "3775908f-ca36-4846-8f38-5adca39217f2",
   "metadata": {
    "language": "python",
    "name": "Import_libraries"
   },
   "outputs": [],
   "source": [
    "# Import python packages\n",
    "import streamlit as st\n",
    "import pandas as pd\n",
    "\n",
    "# We can also use Snowpark for our analyses!\n",
    "from snowflake.snowpark.context import get_active_session\n",
    "session = get_active_session()"
   ]
  },
  {
   "cell_type": "markdown",
   "id": "50ccdefe-a821-4385-adf0-8747add404a8",
   "metadata": {
    "collapsed": false,
    "name": "Setup_tools"
   },
   "source": [
    "## Setup Tools"
   ]
  },
  {
   "cell_type": "markdown",
   "id": "0554b86d-68eb-4aff-a554-c80f26136f39",
   "metadata": {
    "collapsed": false,
    "name": "Unstructured_data"
   },
   "source": "### Cortex Search: Tool for Unstructured Data\n\nSetup a tool that will help the agent to extract information from unstructured data. It will process PDF documents about bikes and skis, and also use image descriptions. The information is stored in PDF and JPEG format."
  },
  {
   "cell_type": "markdown",
   "id": "03547828-0533-4716-99ad-a97b54459178",
   "metadata": {
    "collapsed": false,
    "name": "PDFs"
   },
   "source": [
    "### PDFs"
   ]
  },
  {
   "cell_type": "code",
   "execution_count": null,
   "id": "8d50cbf4-0c8d-4950-86cb-114990437ac9",
   "metadata": {
    "language": "sql",
    "name": "Preview_pdfs"
   },
   "outputs": [],
   "source": [
    "-- Preview documents\n",
    "SELECT * FROM DIRECTORY('@DOCS');"
   ]
  },
  {
   "cell_type": "markdown",
   "id": "78b90d93-69b4-4d6e-b9da-91afd1a2fddc",
   "metadata": {
    "collapsed": false,
    "name": "Parse"
   },
   "source": [
    "Read/process the PDF files using SNOWFLAKE.CORTEX.PARSE_DOCUMENT"
   ]
  },
  {
   "cell_type": "code",
   "execution_count": null,
   "id": "c695373e-ac74-4b62-a1f1-08206cbd5c81",
   "metadata": {
    "language": "sql",
    "name": "Parse_docs"
   },
   "outputs": [],
   "source": [
    "CREATE OR REPLACE TEMPORARY TABLE RAW_TEXT AS\n",
    "SELECT \n",
    "    RELATIVE_PATH,\n",
    "    TO_VARCHAR (\n",
    "        SNOWFLAKE.CORTEX.PARSE_DOCUMENT (\n",
    "            '@DOCS',\n",
    "            RELATIVE_PATH,\n",
    "            {'mode': 'LAYOUT'} ):content\n",
    "        ) AS EXTRACTED_LAYOUT \n",
    "FROM \n",
    "    DIRECTORY('@DOCS')\n",
    "WHERE\n",
    "    RELATIVE_PATH LIKE '%.pdf';"
   ]
  },
  {
   "cell_type": "code",
   "execution_count": null,
   "id": "3621c481-9b70-4d45-89f8-2d6d9e60827d",
   "metadata": {
    "language": "sql",
    "name": "Preview_parsed_docs"
   },
   "outputs": [],
   "source": [
    "select * from RAW_TEXT limit 5;"
   ]
  },
  {
   "cell_type": "markdown",
   "id": "132582de-f23d-4f51-bbf9-44674d30592c",
   "metadata": {
    "collapsed": false,
    "name": "Docs_chunks"
   },
   "source": [
    "Create the table that will be used by Cortex Search service as a tool for Cortex Agents in order to retrieve information from PDF and JPEG files"
   ]
  },
  {
   "cell_type": "code",
   "execution_count": null,
   "id": "17281011-347a-4333-86df-b2689a85a221",
   "metadata": {
    "language": "sql",
    "name": "Create_docs_chunks"
   },
   "outputs": [],
   "source": [
    "create or replace TABLE DOCS_CHUNKS_TABLE ( \n",
    "    RELATIVE_PATH VARCHAR(16777216), -- Relative path to the PDF file\n",
    "    CHUNK VARCHAR(16777216), -- Piece of text\n",
    "    CHUNK_INDEX INTEGER, -- Index for the text\n",
    "    CATEGORY VARCHAR(16777216) -- Will hold the document category to enable filtering\n",
    ");\n"
   ]
  },
  {
   "cell_type": "code",
   "execution_count": null,
   "id": "2040e105-5e88-4525-8eb1-a92fb40bf4a2",
   "metadata": {
    "language": "sql",
    "name": "Split_docs"
   },
   "outputs": [],
   "source": [
    "insert into DOCS_CHUNKS_TABLE (relative_path, chunk, chunk_index)\n",
    "\n",
    "    select relative_path, \n",
    "            c.value::TEXT as chunk,\n",
    "            c.INDEX::INTEGER as chunk_index\n",
    "            \n",
    "    from \n",
    "        raw_text,\n",
    "        LATERAL FLATTEN( input => SNOWFLAKE.CORTEX.SPLIT_TEXT_RECURSIVE_CHARACTER (\n",
    "              EXTRACTED_LAYOUT,\n",
    "              'markdown',\n",
    "              1512,\n",
    "              256,\n",
    "              ['\\n\\n', '\\n', ' ', '']\n",
    "           )) c;"
   ]
  },
  {
   "cell_type": "code",
   "execution_count": null,
   "id": "183043db-6148-4409-8bac-b1112d1b93d2",
   "metadata": {
    "language": "sql",
    "name": "Preview_docs_chunks"
   },
   "outputs": [],
   "source": [
    "SELECT * FROM DOCS_CHUNKS_TABLE limit 7;\n"
   ]
  },
  {
   "cell_type": "markdown",
   "id": "76428176-e27a-4a02-8439-024a09fd3d55",
   "metadata": {
    "collapsed": false,
    "name": "Classify"
   },
   "source": [
    "Let's see how CLASSIFY_TEXT Cortex function can be used to classify the document type. We have two classes, Bike and Snow, and we pass the document title and the first chunk of the document to the function."
   ]
  },
  {
   "cell_type": "code",
   "execution_count": null,
   "id": "babe24f7-4486-4d2a-b342-7dda8bce59ef",
   "metadata": {
    "language": "sql",
    "name": "Classify_docs"
   },
   "outputs": [],
   "source": [
    "CREATE OR REPLACE TEMPORARY TABLE docs_categories AS WITH unique_documents AS (\n",
    "  SELECT\n",
    "    DISTINCT relative_path, chunk\n",
    "  FROM\n",
    "    docs_chunks_table\n",
    "  WHERE \n",
    "    chunk_index = 0\n",
    "  ),\n",
    " docs_category_cte AS (\n",
    "  SELECT\n",
    "    relative_path,\n",
    "    TRIM(snowflake.cortex.CLASSIFY_TEXT (\n",
    "      'Title:' || relative_path || 'Content:' || chunk, ['Bike', 'Snow']\n",
    "     )['label'], '\"') AS category\n",
    "  FROM\n",
    "    unique_documents\n",
    ")\n",
    "SELECT\n",
    "  *\n",
    "FROM\n",
    "  docs_category_cte;"
   ]
  },
  {
   "cell_type": "code",
   "execution_count": null,
   "id": "563deac8-2b50-4c0c-a712-f14eac57e094",
   "metadata": {
    "language": "sql",
    "name": "Preview_classification"
   },
   "outputs": [],
   "source": [
    "select * from docs_categories;\n"
   ]
  },
  {
   "cell_type": "code",
   "execution_count": null,
   "id": "2f3cc3b6-8471-4af0-b562-67e6174eb565",
   "metadata": {
    "language": "sql",
    "name": "Update_docs_chunks"
   },
   "outputs": [],
   "source": [
    "update docs_chunks_table \n",
    "  SET category = docs_categories.category\n",
    "  from docs_categories\n",
    "  where  docs_chunks_table.relative_path = docs_categories.relative_path;\n"
   ]
  },
  {
   "cell_type": "markdown",
   "id": "352527e8-4b98-4c08-8c01-c3758a9ca91e",
   "metadata": {
    "collapsed": false,
    "name": "Images"
   },
   "source": [
    "### Images\n",
    "\n",
    "Now let's process the images we have for our bikes and skis. We are going to use COMPLETE multi-modal function to generate image descriptions and classifications. We will add this information to the DOCS_CHUNKS_TABLE where we also have the PDF documentation."
   ]
  },
  {
   "cell_type": "code",
   "execution_count": null,
   "id": "1fe08185-7dc3-4227-b2f1-f6ee1697d714",
   "metadata": {
    "language": "sql",
    "name": "Image_classification"
   },
   "outputs": [],
   "source": [
    "insert into DOCS_CHUNKS_TABLE (relative_path, chunk, chunk_index, category)\n",
    "SELECT \n",
    "    RELATIVE_PATH,\n",
    "    CONCAT('This is a picture describing the bike: '|| RELATIVE_PATH || \n",
    "        'THIS IS THE DESCRIPTION: ' ||\n",
    "        SNOWFLAKE.CORTEX.COMPLETE('claude-3-5-sonnet',\n",
    "        'DESCRIBE THIS IMAGE: ',\n",
    "        TO_FILE('@DOCS', RELATIVE_PATH))) as chunk,\n",
    "    0,\n",
    "    SNOWFLAKE.CORTEX.COMPLETE('claude-3-5-sonnet',\n",
    "        'Classify this image, respond only with Bike or Snow: ',\n",
    "        TO_FILE('@DOCS', RELATIVE_PATH)) as category,\n",
    "FROM \n",
    "    DIRECTORY('@DOCS')\n",
    "WHERE\n",
    "    RELATIVE_PATH LIKE '%.jpeg';\n"
   ]
  },
  {
   "cell_type": "code",
   "execution_count": null,
   "id": "206862d8-ea66-456b-a297-b4750cd02971",
   "metadata": {
    "language": "sql",
    "name": "Preview_updated_chunks"
   },
   "outputs": [],
   "source": [
    "select * from DOCS_CHUNKS_TABLE\n",
    "    where RELATIVE_PATH LIKE '%.jpeg';"
   ]
  },
  {
   "cell_type": "markdown",
   "id": "e1505035-726b-4447-b182-84a3707f015d",
   "metadata": {
    "collapsed": false,
    "name": "Cortex_Search"
   },
   "source": [
    "### Cortex Search\n",
    "\n",
    "Cortex Search tool will be used to retrieve context from unstructured data. Once we have processed all the content from PDFs and images into the DOCS_CHUNK_TABLE, we just need to enable the service in that table. This will automatically create the embeddings, indexing, etc. "
   ]
  },
  {
   "cell_type": "code",
   "execution_count": null,
   "id": "4a2d90b8-2ad6-4470-9b65-64769fdbbfe0",
   "metadata": {
    "language": "sql",
    "name": "Create_wh"
   },
   "outputs": [],
   "source": "CREATE WAREHOUSE IF NOT EXISTS DEFAULT_WH\nWAREHOUSE_SIZE = 'XSMALL';"
  },
  {
   "cell_type": "code",
   "execution_count": null,
   "id": "77174449-fc9c-4551-9563-5f10930a5aa2",
   "metadata": {
    "language": "sql",
    "name": "Create_search_service"
   },
   "outputs": [],
   "source": "create or replace CORTEX SEARCH SERVICE DOCUMENTATION_TOOL\nON chunk\nATTRIBUTES relative_path, category\nwarehouse = DEFAULT_WH\nTARGET_LAG = '1 hour'\nEMBEDDING_MODEL = 'snowflake-arctic-embed-l-v2.0'\nas (\n    select chunk,\n        chunk_index,\n        relative_path,\n        category\n    from docs_chunks_table\n);"
  },
  {
   "cell_type": "markdown",
   "id": "0d92e083-2415-4c42-aa87-80187831c8bb",
   "metadata": {
    "collapsed": false,
    "name": "Structured_data"
   },
   "source": "### Cortex Analyst: Tool for Structured Data\n\nAnother tool that we will setup is Cortex Analyst. It will provide the capability to extract information from structured data stored in Snowflake tables. In the API call we will provider the location of our semantic file that contains information about the business terminology used to describe the data.\n\nFirst, let's create some tables and generate data that provides additional context about bikes and ski products.\n\n**DIM_ARTICLE – Article/Item Dimension**\n\nPurpose: Stores descriptive information about the products (articles) being sold.\n\nKey Columns:\n\n- ARTICLE_ID (Primary Key): Unique identifier for each article.\n- ARTICLE_NAME: Full name/description of the product.\n- ARTICLE_CATEGORY: Product category (e.g., Bike, Skis, Ski Boots).\n- ARTICLE_BRAND: Manufacturer or brand (e.g., Mondracer, Carver).\n- ARTICLE_COLOR: Dominant color for the article.\n- ARTICLE_PRICE: Standard unit price of the article.\n\n\n**DIM_CUSTOMER – Customer Dimension**\n\nPurpose: Contains demographic and segmentation info about each customer.\n\nKey Columns:\n\n- CUSTOMER_ID (Primary Key): Unique identifier for each customer.\n- CUSTOMER_NAME: Display name for the customer.\n- CUSTOMER_REGION: Geographic region (e.g., North, South).\n- CUSTOMER_AGE: Age of the customer.\n- CUSTOMER_GENDER: Gender (Male/Female).\n- CUSTOMER_SEGMENT: Marketing segment (e.g., Premium, Regular, Occasional).\n\n\n**FACT_SALES – Sales Transactions Fact Table**\n\nPurpose: Captures individual sales transactions (facts) with references to article and customer details.\n\nKey Columns:\n\n- SALE_ID (Primary Key): Unique identifier for the transaction.\n- ARTICLE_ID (Foreign Key): Links to DIM_ARTICLE.\n- CUSTOMER_ID (Foreign Key): Links to DIM_CUSTOMER.\n- DATE_SALES: Date when the sale occurred.\n- QUANTITY_SOLD: Number of units sold in the transaction.\n- TOTAL_PRICE: Total transaction value (unit price × quantity).\n- SALES_CHANNEL: Sales channel used (e.g., Online, In-Store, Partner).\n- PROMOTION_APPLIED: Boolean indicating if the sale involved a promotion or discount.\n\n"
  },
  {
   "cell_type": "code",
   "execution_count": null,
   "id": "94632a62-3b94-4d3a-9b1e-98aee4da1ac6",
   "metadata": {
    "language": "sql",
    "name": "Create_article_table"
   },
   "outputs": [],
   "source": [
    "CREATE OR REPLACE TABLE DIM_ARTICLE (\n",
    "    ARTICLE_ID INT PRIMARY KEY,\n",
    "    ARTICLE_NAME STRING,\n",
    "    ARTICLE_CATEGORY STRING,\n",
    "    ARTICLE_BRAND STRING,\n",
    "    ARTICLE_COLOR STRING,\n",
    "    ARTICLE_PRICE FLOAT\n",
    ");\n",
    "\n",
    "INSERT INTO DIM_ARTICLE (ARTICLE_ID, ARTICLE_NAME, ARTICLE_CATEGORY, ARTICLE_BRAND, ARTICLE_COLOR, ARTICLE_PRICE)\n",
    "VALUES \n",
    "(1, 'Mondracer Infant Bike', 'Bike', 'Mondracer', 'Red', 3000),\n",
    "(2, 'Premium Bicycle', 'Bike', 'Veloci', 'Blue', 9000),\n",
    "(3, 'Ski Boots TDBootz Special', 'Ski Boots', 'TDBootz', 'Black', 600),\n",
    "(4, 'The Ultimate Downhill Bike', 'Bike', 'Graviton', 'Green', 10000),\n",
    "(5, 'The Xtreme Road Bike 105 SL', 'Bike', 'Xtreme', 'White', 8500),\n",
    "(6, 'Carver Skis', 'Skis', 'Carver', 'Orange', 790),\n",
    "(7, 'Outpiste Skis', 'Skis', 'Outpiste', 'Yellow', 900),\n",
    "(8, 'Racing Fast Skis', 'Skis', 'RacerX', 'Blue', 950);"
   ]
  },
  {
   "cell_type": "code",
   "execution_count": null,
   "id": "1cd839a1-2aba-480e-9a7b-3e95b413ce8a",
   "metadata": {
    "language": "sql",
    "name": "Create_customer_table"
   },
   "outputs": [],
   "source": [
    "CREATE OR REPLACE TABLE DIM_CUSTOMER (\n",
    "    CUSTOMER_ID INT PRIMARY KEY,\n",
    "    CUSTOMER_NAME STRING,\n",
    "    CUSTOMER_REGION STRING,\n",
    "    CUSTOMER_AGE INT,\n",
    "    CUSTOMER_GENDER STRING,\n",
    "    CUSTOMER_SEGMENT STRING\n",
    ");\n",
    "\n",
    "INSERT INTO DIM_CUSTOMER (CUSTOMER_ID, CUSTOMER_NAME, CUSTOMER_REGION, CUSTOMER_AGE, CUSTOMER_GENDER, CUSTOMER_SEGMENT)\n",
    "SELECT \n",
    "    SEQ4() AS CUSTOMER_ID,\n",
    "    'Customer ' || SEQ4() AS CUSTOMER_NAME,\n",
    "    CASE MOD(SEQ4(), 5)\n",
    "        WHEN 0 THEN 'North'\n",
    "        WHEN 1 THEN 'South'\n",
    "        WHEN 2 THEN 'East'\n",
    "        WHEN 3 THEN 'West'\n",
    "        ELSE 'Central'\n",
    "    END AS CUSTOMER_REGION,\n",
    "    UNIFORM(18, 65, RANDOM()) AS CUSTOMER_AGE,\n",
    "    CASE MOD(SEQ4(), 2)\n",
    "        WHEN 0 THEN 'Male'\n",
    "        ELSE 'Female'\n",
    "    END AS CUSTOMER_GENDER,\n",
    "    CASE MOD(SEQ4(), 3)\n",
    "        WHEN 0 THEN 'Premium'\n",
    "        WHEN 1 THEN 'Regular'\n",
    "        ELSE 'Occasional'\n",
    "    END AS CUSTOMER_SEGMENT\n",
    "FROM TABLE(GENERATOR(ROWCOUNT => 5000));"
   ]
  },
  {
   "cell_type": "code",
   "execution_count": null,
   "id": "f8b1c58e-8c41-444b-8163-386a74ce5ee2",
   "metadata": {
    "language": "sql",
    "name": "Create_sales_table"
   },
   "outputs": [],
   "source": [
    "CREATE OR REPLACE TABLE FACT_SALES (\n",
    "    SALE_ID INT PRIMARY KEY,\n",
    "    ARTICLE_ID INT,\n",
    "    DATE_SALES DATE,\n",
    "    CUSTOMER_ID INT,\n",
    "    QUANTITY_SOLD INT,\n",
    "    TOTAL_PRICE FLOAT,\n",
    "    SALES_CHANNEL STRING,\n",
    "    PROMOTION_APPLIED BOOLEAN,\n",
    "    FOREIGN KEY (ARTICLE_ID) REFERENCES DIM_ARTICLE(ARTICLE_ID),\n",
    "    FOREIGN KEY (CUSTOMER_ID) REFERENCES DIM_CUSTOMER(CUSTOMER_ID)\n",
    ");\n",
    "\n",
    "-- Populating Sales Fact Table with new attributes\n",
    "INSERT INTO FACT_SALES (SALE_ID, ARTICLE_ID, DATE_SALES, CUSTOMER_ID, QUANTITY_SOLD, TOTAL_PRICE, SALES_CHANNEL, PROMOTION_APPLIED)\n",
    "SELECT \n",
    "    SEQ4() AS SALE_ID,\n",
    "    A.ARTICLE_ID,\n",
    "    DATEADD(DAY, UNIFORM(-1095, 0, RANDOM()), CURRENT_DATE) AS DATE_SALES,\n",
    "    UNIFORM(1, 5000, RANDOM()) AS CUSTOMER_ID,\n",
    "    UNIFORM(1, 10, RANDOM()) AS QUANTITY_SOLD,\n",
    "    UNIFORM(1, 10, RANDOM()) * A.ARTICLE_PRICE AS TOTAL_PRICE,\n",
    "    CASE MOD(SEQ4(), 3)\n",
    "        WHEN 0 THEN 'Online'\n",
    "        WHEN 1 THEN 'In-Store'\n",
    "        ELSE 'Partner'\n",
    "    END AS SALES_CHANNEL,\n",
    "    CASE MOD(SEQ4(), 4)\n",
    "        WHEN 0 THEN TRUE\n",
    "        ELSE FALSE\n",
    "    END AS PROMOTION_APPLIED\n",
    "FROM DIM_ARTICLE A\n",
    "JOIN TABLE(GENERATOR(ROWCOUNT => 10000)) ON TRUE\n",
    "ORDER BY DATE_SALES;"
   ]
  },
  {
   "cell_type": "markdown",
   "id": "bc088cde-eff3-47cb-b98d-921d79b3d4cc",
   "metadata": {
    "collapsed": false,
    "name": "Cortex_Analyst"
   },
   "source": [
    "### Semantic Models\n",
    "\n",
    "The semantic model maps business terminology to the structured data and adds contextual meaning. It allows Cortex Analyst to generate the correct SQL for a question asked in natural language.\n",
    "\n",
    "NOTE: To explore semantic models, refer to these [instructions](https://github.com/Snowflake-Labs/sfguide-build-data-agents-using-snowflake-cortex-ai?tab=readme-ov-file#step-5-explore-the-semantic-model)."
   ]
  },
  {
   "cell_type": "code",
   "execution_count": null,
   "id": "0121f643-d9b7-4784-a50f-83edfa02ddce",
   "metadata": {
    "language": "sql",
    "name": "Copy_semantic_model"
   },
   "outputs": [],
   "source": [
    "create or replace stage semantic_files ENCRYPTION = (TYPE = 'SNOWFLAKE_SSE') DIRECTORY = ( ENABLE = true );\n",
    "\n",
    "COPY FILES\n",
    "    INTO @semantic_files/\n",
    "    FROM @DASH_CORTEX_AGENTS_SUMMIT.PUBLIC.git_repo/branches/main/\n",
    "    FILES = ('semantic.yaml', 'semantic_search.yaml');"
   ]
  },
  {
   "cell_type": "markdown",
   "id": "0d09d287-24c7-4691-ab2b-4a7a29f523e7",
   "metadata": {
    "collapsed": false,
    "name": "Dynamic_literal_retrieval"
   },
   "source": [
    "### Improve Tool Usage with Dynamic Literal Retrieval\n",
    "\n",
    "Using Cortex Analyst integration with Cortex Search, we can improve the retrieval of possible values of a column without listing them all in the semantic model file. \n",
    "\n",
    "Let's try it as example for the ARTICLE NAMES."
   ]
  },
  {
   "cell_type": "code",
   "execution_count": null,
   "id": "3313c2a7-09d6-4850-8318-80dca424ffab",
   "metadata": {
    "language": "sql",
    "name": "Create_new_service"
   },
   "outputs": [],
   "source": "CREATE OR REPLACE CORTEX SEARCH SERVICE _ARTICLE_NAME_SEARCH\n  ON ARTICLE_NAME\n  WAREHOUSE = DEFAULT_WH\n  TARGET_LAG = '1 hour'\n  EMBEDDING_MODEL = 'snowflake-arctic-embed-l-v2.0'\nAS (\n  SELECT\n      DISTINCT ARTICLE_NAME\n  FROM DIM_ARTICLE\n);"
  },
  {
   "cell_type": "markdown",
   "id": "424016df-dbd4-4f05-92f4-b4ba393ee02b",
   "metadata": {
    "collapsed": false,
    "name": "Continuation"
   },
   "source": "### *NOTE: This concludes the setup tools portion of this guide. Follow [instructions outlined here](https://github.com/Snowflake-Labs/sfguide-build-data-agents-using-snowflake-cortex-ai?tab=readme-ov-file#important-note-run-through-all-the-cells-in-the-snowflake-notebook-before-proceeding) to complete the lab.*"
  }
 ]
}